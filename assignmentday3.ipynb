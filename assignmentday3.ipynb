{
 "cells": [
  {
   "cell_type": "code",
   "execution_count": 2,
   "metadata": {},
   "outputs": [
    {
     "name": "stdout",
     "output_type": "stream",
     "text": [
      "the mean is 400.0\n",
      "the variance is 80000.0\n"
     ]
    }
   ],
   "source": [
    "# write the mean and variance in PMF\n",
    "from collections import Counter\n",
    "x=[100,200,300,500,900]\n",
    "\n",
    "Total_number= len(x) #the total number of elements in x\n",
    "counter=Counter(x) # Counts how many times each number appears in the list\n",
    "\n",
    "def p(x_k):\n",
    "    frequency= counter[x_k]\n",
    "    return frequency/Total_number\n",
    "\n",
    "#mean\n",
    "mean=sum(p(x_k)*x_k for x_k in x)\n",
    "print(f'the mean is {mean}')\n",
    "\n",
    "variance= sum((p(x_k))*(x_k- mean)**2 for x_k in x)\n",
    "print(f'the variance is {variance}')    \n",
    "\n"
   ]
  },
  {
   "cell_type": "code",
   "execution_count": null,
   "metadata": {},
   "outputs": [],
   "source": []
  }
 ],
 "metadata": {
  "kernelspec": {
   "display_name": "Python 3",
   "language": "python",
   "name": "python3"
  },
  "language_info": {
   "codemirror_mode": {
    "name": "ipython",
    "version": 3
   },
   "file_extension": ".py",
   "mimetype": "text/x-python",
   "name": "python",
   "nbconvert_exporter": "python",
   "pygments_lexer": "ipython3",
   "version": "3.12.8"
  }
 },
 "nbformat": 4,
 "nbformat_minor": 2
}
